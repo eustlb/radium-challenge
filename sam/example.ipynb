{
 "cells": [
  {
   "cell_type": "code",
   "execution_count": 4,
   "metadata": {},
   "outputs": [
    {
     "name": "stdout",
     "output_type": "stream",
     "text": [
      "\u001b[34m\u001b[1mwandb\u001b[0m: Currently logged in as: \u001b[33meustache-le-bihan\u001b[0m. Use \u001b[1m`wandb login --relogin`\u001b[0m to force relogin\n",
      "\u001b[34m\u001b[1mwandb\u001b[0m: Tracking run with wandb version 0.16.4\n",
      "\u001b[34m\u001b[1mwandb\u001b[0m: Run data is saved locally in \u001b[35m\u001b[1m/Users/eustachelebihan/Development/radium-challenge/sam/wandb/run-20240316_185210-49vu65s3\u001b[0m\n",
      "\u001b[34m\u001b[1mwandb\u001b[0m: Run \u001b[1m`wandb offline`\u001b[0m to turn off syncing.\n",
      "\u001b[34m\u001b[1mwandb\u001b[0m: Syncing run \u001b[33mtreasured-thunder-1\u001b[0m\n",
      "\u001b[34m\u001b[1mwandb\u001b[0m: ⭐️ View project at \u001b[34m\u001b[4mhttps://wandb.ai/eustache-le-bihan/radsam-20240316-1852\u001b[0m\n",
      "\u001b[34m\u001b[1mwandb\u001b[0m: 🚀 View run at \u001b[34m\u001b[4mhttps://wandb.ai/eustache-le-bihan/radsam-20240316-1852/runs/49vu65s3\u001b[0m\n",
      "Traceback (most recent call last):\n",
      "  File \"/Users/eustachelebihan/Development/radium-challenge/sam/train.py\", line 44, in <module>\n",
      "    sam_model = sam_model_registry[config.training.model_type](checkpoint=config.training.checkpoint)\n",
      "                ^^^^^^^^^^^^^^^^^^^^^^^^^^^^^^^^^^^^^^^^^^^^^^^^^^^^^^^^^^^^^^^^^^^^^^^^^^^^^^^^^^^^^\n",
      "  File \"/Users/eustachelebihan/miniforge3/envs/radium-py11/lib/python3.11/site-packages/segment_anything/build_sam.py\", line 38, in build_sam_vit_b\n",
      "    return _build_sam(\n",
      "           ^^^^^^^^^^^\n",
      "  File \"/Users/eustachelebihan/miniforge3/envs/radium-py11/lib/python3.11/site-packages/segment_anything/build_sam.py\", line 104, in _build_sam\n",
      "    with open(checkpoint, \"rb\") as f:\n",
      "         ^^^^^^^^^^^^^^^^^^^^^^\n",
      "FileNotFoundError: [Errno 2] No such file or directory: '/kaggle/input/radium-data/sam_vit_b_01ec64.pth'\n",
      "\u001b[34m\u001b[1mwandb\u001b[0m: 🚀 View run \u001b[33mtreasured-thunder-1\u001b[0m at: \u001b[34m\u001b[4mhttps://wandb.ai/eustache-le-bihan/radsam-20240316-1852/runs/49vu65s3\u001b[0m\n",
      "\u001b[34m\u001b[1mwandb\u001b[0m: ️⚡ View job at \u001b[34m\u001b[4mhttps://wandb.ai/eustache-le-bihan/radsam-20240316-1852/jobs/QXJ0aWZhY3RDb2xsZWN0aW9uOjE0OTQ5MTY5Mw==/version_details/v0\u001b[0m\n",
      "\u001b[34m\u001b[1mwandb\u001b[0m: Synced 6 W&B file(s), 0 media file(s), 2 artifact file(s) and 0 other file(s)\n",
      "\u001b[34m\u001b[1mwandb\u001b[0m: Find logs at: \u001b[35m\u001b[1m./wandb/run-20240316_185210-49vu65s3/logs\u001b[0m\n"
     ]
    }
   ],
   "source": [
    "!python train.py"
   ]
  },
  {
   "cell_type": "code",
   "execution_count": null,
   "metadata": {},
   "outputs": [],
   "source": []
  }
 ],
 "metadata": {
  "kernelspec": {
   "display_name": "radium-py11",
   "language": "python",
   "name": "python3"
  },
  "language_info": {
   "codemirror_mode": {
    "name": "ipython",
    "version": 3
   },
   "file_extension": ".py",
   "mimetype": "text/x-python",
   "name": "python",
   "nbconvert_exporter": "python",
   "pygments_lexer": "ipython3",
   "version": "3.11.8"
  }
 },
 "nbformat": 4,
 "nbformat_minor": 2
}
